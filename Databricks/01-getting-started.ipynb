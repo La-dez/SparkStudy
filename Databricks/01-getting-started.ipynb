{
 "cells": [
  {
   "cell_type": "code",
   "execution_count": 0,
   "metadata": {
    "application/vnd.databricks.v1+cell": {
     "cellMetadata": {},
     "inputWidgets": {},
     "nuid": "49e9c408-6f10-4a95-8ab9-1fd6a2899b19",
     "showTitle": false,
     "tableResultSettingsMap": {},
     "title": ""
    }
   },
   "outputs": [],
   "source": [
    "diamods_df = spark.read.format(\"csv\") \\ \n",
    "                .option(\"header\",\"true\") \\\n",
    "                .option(\"inferSchema\",\"true\") \\\n",
    "                .load(\"/databricks-datasets/Rdatasets/data-001/csv/ggplot2/diamods.csv\")\n",
    "\n",
    "diamonds_df.show(10 )"
   ]
  }
 ],
 "metadata": {
  "application/vnd.databricks.v1+notebook": {
   "computePreferences": null,
   "dashboards": [],
   "environmentMetadata": {
    "base_environment": "",
    "environment_version": "1"
   },
   "inputWidgetPreferences": null,
   "language": "python",
   "notebookMetadata": {
    "pythonIndentUnit": 4
   },
   "notebookName": "01-getting-started",
   "widgets": {}
  }
 },
 "nbformat": 4,
 "nbformat_minor": 0
}